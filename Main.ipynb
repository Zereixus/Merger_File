{
 "cells": [
  {
   "cell_type": "code",
   "execution_count": 1,
   "metadata": {},
   "outputs": [
    {
     "name": "stdout",
     "output_type": "stream",
     "text": [
      "               Reference_Code\n",
      "0                         NaN\n",
      "1                         NaN\n",
      "2                         NaN\n",
      "3     H431-Hitambatik-Allsize\n",
      "4     H431-Hitambatik-Bigsize\n",
      "...                       ...\n",
      "2249                      NaN\n",
      "2250                      NaN\n",
      "2251                      NaN\n",
      "2252                      NaN\n",
      "2253                      NaN\n",
      "\n",
      "[2254 rows x 1 columns]\n"
     ]
    }
   ],
   "source": [
    "import pandas as pd\n",
    "\n",
    "# Load data from Excel\n",
    "sheet1_df = pd.read_excel('Mass Update.xlsx',skiprows=2)\n",
    "# Rename the 'SKU' column to 'Reference_Code'\n",
    "sheet1_df.rename(columns={'SKU': 'Reference_Code'}, inplace=True)\n",
    "#print(sheet1_df)\n",
    "\n",
    "sheet1_df = sheet1_df[['Reference_Code']]\n",
    "\n",
    "#print(sheet1_df)"
   ]
  },
  {
   "cell_type": "code",
   "execution_count": 2,
   "metadata": {},
   "outputs": [
    {
     "name": "stdout",
     "output_type": "stream",
     "text": [
      "      SKU        Color         Size  Stok\n",
      "0    7503         Biru     All size     0\n",
      "1    7503       Kuning     All size     0\n",
      "2    7503        Putih     All size     0\n",
      "3    7503        Hitam     All size     0\n",
      "4    7503  Orange bata     All size     0\n",
      "..    ...          ...          ...   ...\n",
      "811  H431   Navy batik     Big size     0\n",
      "812  H431   Navy batik  Super jumbo     0\n",
      "813  H431  Cream batik     All size    10\n",
      "814  H431  Cream batik     Big size    10\n",
      "815  H431  Cream batik  Super jumbo     9\n",
      "\n",
      "[816 rows x 4 columns]\n"
     ]
    }
   ],
   "source": [
    "# Load data from Excel\n",
    "sheet2_df = pd.read_csv(\"MKC_data.csv\")\n",
    "#sheet2_df = pd.read_excel('Update.xlsx', sheet_name='Sheet2')\n",
    "\n",
    "# Remove newline characters from all columns\n",
    "sheet2_df = sheet2_df.replace('\\n', '', regex=True)\n",
    "sheet2_df.columns = ['SKU', 'Color', 'Size', 'Stok']\n",
    "\n",
    "#print(sheet2_df)"
   ]
  },
  {
   "cell_type": "code",
   "execution_count": 3,
   "metadata": {},
   "outputs": [
    {
     "name": "stdout",
     "output_type": "stream",
     "text": [
      "     SKU       Color        Size  Stok\n",
      "0    NaN         NaN         NaN   NaN\n",
      "1    NaN         NaN         NaN   NaN\n",
      "2    NaN         NaN         NaN   NaN\n",
      "3   H431  Hitambatik     Allsize  None\n",
      "4   H431  Hitambatik     Bigsize  None\n",
      "5   H431      Maroon     Bigsize  None\n",
      "6   H431      Maroon     Allsize  None\n",
      "7   H431  Merahbatik     Bigsize  None\n",
      "8   H431       Hitam  Superjumbo  None\n",
      "9   H431  Creambatik     Bigsize  None\n",
      "10  H431   Navybatik     Allsize  None\n",
      "11  H431  Merahbatik  Superjumbo  None\n",
      "12  H431   Navybatik  Superjumbo  None\n",
      "13  H431      Maroon  Superjumbo  None\n",
      "14  H431       Hijau     Allsize  None\n",
      "15  H431       Hijau     Bigsize  None\n",
      "16  H431  Creambatik  Superjumbo  None\n",
      "17  H431  Merahbatik     Allsize  None\n",
      "18  H431  Creambatik     Allsize  None\n",
      "19  H431   Navybatik     Bigsize  None\n"
     ]
    }
   ],
   "source": [
    "# Extracting SKU, Color, and Size from Reference_Code in Sheet1\n",
    "split_cols = sheet1_df['Reference_Code'].str.split('-', expand=True)\n",
    "if len(split_cols.columns) == 4:\n",
    "    split_cols.columns = ['SKU', 'Color', 'Size', 'Stok']\n",
    "\n",
    "# Rename columns in sheet1_df\n",
    "# split_cols.columns = ['Production_Code', 'SKU', 'Color', 'Size']\n",
    "#split_cols = split_cols.drop(['unknown_1'], axis=1)\n",
    "\n",
    "#print(split_cols.head(20))"
   ]
  },
  {
   "cell_type": "code",
   "execution_count": 4,
   "metadata": {},
   "outputs": [
    {
     "name": "stdout",
     "output_type": "stream",
     "text": [
      "SKU                 8863\n",
      "Color    motifkotakmerah\n",
      "Size             allsize\n",
      "Stok                None\n",
      "Name: 222, dtype: object\n"
     ]
    }
   ],
   "source": [
    "# Concatenating temp_df with sheet1_df\n",
    "sheet1_df = split_cols\n",
    "\n",
    "# Cleaning Color column in sheet2\n",
    "sheet1_df['Color'] = sheet1_df['Color'].str.lower().str.replace(' ', '')\n",
    "\n",
    "# Cleaning Size column in sheet2\n",
    "sheet1_df['Size'] = sheet1_df['Size'].str.lower().str.replace(' ', '')\n",
    "\n",
    "#print(sheet1_df.iloc[222])"
   ]
  },
  {
   "cell_type": "code",
   "execution_count": 5,
   "metadata": {},
   "outputs": [],
   "source": [
    "sheet1_df['SKU'] = sheet1_df['SKU'].astype(str)\n",
    "sheet2_df['SKU'] = sheet2_df['SKU'].astype(str)\n",
    "\n",
    "# Cleaning Color column in sheet2\n",
    "sheet2_df['Color'] = sheet2_df['Color'].str.lower().str.replace(' ', '')\n",
    "# Cleaning Size column in sheet2\n",
    "sheet2_df['Size'] = sheet2_df['Size'].str.lower().str.replace(' ', '')\n"
   ]
  },
  {
   "cell_type": "code",
   "execution_count": 6,
   "metadata": {},
   "outputs": [
    {
     "name": "stdout",
     "output_type": "stream",
     "text": [
      "    SKU       Color     Size  Stok\n",
      "0   nan         NaN      NaN   0.0\n",
      "1   nan         NaN      NaN   0.0\n",
      "2   nan         NaN      NaN   0.0\n",
      "3  H431  hitambatik  allsize   0.0\n",
      "4  H431  hitambatik  bigsize   5.0\n"
     ]
    }
   ],
   "source": [
    "# Merge Sheet1 and Sheet2 on SKU, Color, and Size\n",
    "merge_cols = ['SKU', 'Color', 'Size']\n",
    "merged_df = pd.merge(sheet1_df, sheet2_df[['SKU', 'Color', 'Size', 'Stok']], on=merge_cols, how='left', suffixes=('', '_sheet2'))\n",
    "\n",
    "# Update Stok in Sheet1 with Stok from Sheet2 where available\n",
    "merged_df['Stok'] = merged_df['Stok_sheet2'].fillna(merged_df['Stok'])\n",
    "merged_df = merged_df.drop('Stok', axis=1)\n",
    "\n",
    "merged_df.columns = ['SKU', 'Color', 'Size', 'Stok']\n",
    "\n",
    "merged_df['Stok'] = merged_df['Stok'].fillna(0)  # Fill NaN values with zero for easier\n",
    "\n",
    "#print(merged_df.head(5))\n"
   ]
  },
  {
   "cell_type": "code",
   "execution_count": 7,
   "metadata": {},
   "outputs": [],
   "source": [
    "# Save the updated DataFrame back to Excel\n",
    "merged_df.to_excel('Copy to Mass Update.xlsx', index=False)"
   ]
  }
 ],
 "metadata": {
  "kernelspec": {
   "display_name": "Python 3",
   "language": "python",
   "name": "python3"
  },
  "language_info": {
   "codemirror_mode": {
    "name": "ipython",
    "version": 3
   },
   "file_extension": ".py",
   "mimetype": "text/x-python",
   "name": "python",
   "nbconvert_exporter": "python",
   "pygments_lexer": "ipython3",
   "version": "3.11.8"
  }
 },
 "nbformat": 4,
 "nbformat_minor": 2
}
